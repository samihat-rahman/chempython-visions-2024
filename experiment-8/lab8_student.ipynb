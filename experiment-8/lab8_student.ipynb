{
 "cells": [
  {
   "cell_type": "markdown",
   "metadata": {},
   "source": [
    "# Lab 8: Kinetics of Aquation\n",
    "This notebook will help you complete the data analysis required for the Kinetics of Aquation lab. It's split into 3 parts:\n",
    " - A. Load your data\n",
    " - B. Calculate absorbance constants\n",
    " - C. Find the rate constant\n",
    "\n",
    "Additionally, there are optional parts to:\n",
    "- D. Make the Arrhenius plot\n",
    "- E. Plot the absorbance data\n",
    "\n",
    "But the optional portions can be done on Excel. It is essential that ***all*** the cells in parts A-C ***are run sequentially*** or else your code ***will not work***.\n",
    "\n",
    "This notebook is also **interactive**, and as such there are lines where you must write the code yourself to complete the tasks. Sections where you must write your own code are numbered and labelled with the heading:\n",
    "\n",
    "## Task #0:\n",
    "\n",
    "And detailed instructions for your coding task will be written below. These tasks are **in addition** to adding appropriate filenames where indicated.\n",
    "\n",
    "There are **four** tasks in sections A-B and **two additional** tasks in the optional sections.\n",
    "\n",
    "Please make sure to read **all** of the instructions and comments **very* carefully, this is essential in making sure your code runs smoothly and error-free.\n",
    "\n",
    "***Happy coding!***"
   ]
  },
  {
   "cell_type": "markdown",
   "metadata": {},
   "source": [
    "## Part A: Load your data\n",
    "\n",
    "You should have the following data recorded in your notebook:\n",
    "- Reaction time\n",
    "- Absorbance at 450 nm\n",
    "- Absorbance at 508 nm\n",
    "\n",
    "### Save your data in an excel sheet\n",
    "\n",
    "Create a spreadsheet with three columns labelled:\n",
    "- Time\n",
    "- Absorbance 450nm\n",
    "- Absorbance 508nm\n",
    "\n",
    "**Please make sure the column names are exactly as above, this is essential for the code to run properly.**\n",
    "\n",
    "And enter your data in the respective columns and **save the file as an Excel sheet**. We will now upload the data into python and plot it.\n",
    "\n",
    "### Load and view the data into python using `pandas`\n",
    "\n",
    "The data is uploaded using a python module known as `pandas` which will store the data in a *dataframe*. In the blocks below, we will go through how to load the data and view it as well."
   ]
  },
  {
   "cell_type": "code",
   "execution_count": null,
   "metadata": {},
   "outputs": [],
   "source": [
    "# First we need to load the python modules we need\n",
    "# This is just pandas for now\n",
    "import pandas as pd\n",
    "\n",
    "# Now we need to load the data using the pandas read_excel function\n",
    "# This function reads the data from an excel file and loads it into a pandas dataframe\n",
    "# This is saved in a variable called data\"\n",
    "# Remember to change the filename to the correct path: keep the .xlsx at the end\n",
    "data = pd.read_excel(\"ENTER YOUR FILENAME.xlsx\", engine='openpyxl')\n",
    "\n",
    "# now lets take a look at the data\n",
    "print(data)\n"
   ]
  },
  {
   "cell_type": "markdown",
   "metadata": {},
   "source": [
    "As we can see, the dataframe shows the same information as excel. Since it also preserves the column headings, we can use those to look at subsets of the data and call each column separately if necessary. This is important since we will need to do calculations using the two absorbance values.\n",
    "\n",
    "The syntax to do this is as follows:\n",
    "1. First, write the name of the variable that represents the *dataframe*\n",
    "2. Next add square brackets\n",
    "3. Add quotation marks inside the square brackets\n",
    "4. Inside the quotes, enter the *exact* name of the column\n",
    "\n",
    "So, for example, if I wanted to view just the absorbance at 450 nm I would use this code:"
   ]
  },
  {
   "cell_type": "code",
   "execution_count": null,
   "metadata": {},
   "outputs": [],
   "source": [
    "# Viewing only the absorbance at 450 nm\n",
    "# We have to make sure that the column name is exactly the same as in the excel file\n",
    "print(data[\"Absorbance 450nm\"])"
   ]
  },
  {
   "cell_type": "markdown",
   "metadata": {},
   "source": [
    "We can also view multiple columns at the same time by adding an extra square bracket and a comma between the column names!"
   ]
  },
  {
   "cell_type": "code",
   "execution_count": null,
   "metadata": {},
   "outputs": [],
   "source": [
    "# Viewing both the time and the absorbance at 450 nm\n",
    "print(data[[\"Time\", \"Absorbance 450nm\"]])"
   ]
  },
  {
   "cell_type": "markdown",
   "metadata": {},
   "source": [
    "## Task #1:\n",
    "In the space below, fill in the code to view the *Time* and *Absorbance 508nm* columns"
   ]
  },
  {
   "cell_type": "code",
   "execution_count": null,
   "metadata": {},
   "outputs": [],
   "source": [
    "# Fill in the quotes with the two columns mentioned above\n",
    "\n",
    "print(data[[\"\", \"\"]])"
   ]
  },
  {
   "cell_type": "markdown",
   "metadata": {},
   "source": [
    "### Creating variables for each column\n",
    "\n",
    "Now that we're a little more familiarized with dataframes, we can move onto doing calculations with the loaded data. However, before doing this, it is very helpful to store the columns in separate variables since the syntax for calling a variable is much shorter.\n",
    "\n",
    "We will also convert the data into an *array* using the module `numpy`, this will make calculations easier.\n",
    "\n",
    "## Task #2\n",
    "\n",
    "**Write in the correct column headings in the empty quotes below**"
   ]
  },
  {
   "cell_type": "code",
   "execution_count": null,
   "metadata": {},
   "outputs": [],
   "source": [
    "# First let\"s import numpy\n",
    "import numpy as np\n",
    "\n",
    "# We\"ll store the columns as individual variables\n",
    "# We will also convert the data to numpy arrays\n",
    "time = np.array(data[\"\"])\n",
    "abs_450 = np.array(data[\"\"])\n",
    "abs_508 = np.array(data[\"\"])"
   ]
  },
  {
   "cell_type": "markdown",
   "metadata": {},
   "source": [
    "## Part B: Calculate the absorbance constants\n",
    "\n",
    "Now we will run the calculations using the variables we set above.\n",
    "\n",
    "From the lab notebook we know that the formulae to find the initial and final absorbance of the dichloro species are:\n",
    "\n",
    "$$A_\\infty = \\frac{0.975 * A_{405}}{0.410}$$\n",
    "$$A_0 = \\frac{0.150 * A_{405}}{0.410}$$\n",
    "\n",
    "Using the formulae, we can track the instantaneous concentration of $[M-Cl]_t$ using the absorbance. This can be done using the following method:\n",
    "1. Find the average absorbance at the isosbestic point (450 nm)\n",
    "2. Calculate $A_\\infty$ and $A_0$ \n",
    "3. Calculate $A_\\infty - A_t$ and $A_\\infty - A_0$\n",
    "4. Calculate $\\ln \\frac{A_\\infty - A_t}{A_\\infty - A_0}$ and $\\frac{1}{A_\\infty - A_t}$\n",
    "\n",
    "More explicit details on the calculations are outlined in the lab handout.\n",
    "\n",
    "## Task #3:\n",
    "I've added two **incomplete* variables for $A_\\infty$ (labelled `abs_infinity`) and $A_0$ (labelled `abs_0`). On the *right* side of the equals sign, fill in the correct formula. Make sure to use parentheses!"
   ]
  },
  {
   "cell_type": "code",
   "execution_count": null,
   "metadata": {},
   "outputs": [],
   "source": [
    "# First find the average absorbance at 450 nm\n",
    "abs_450_avg = np.mean(abs_450)\n",
    "\n",
    "# Now find the maximum absorbance and minimum absorbance using the constants \n",
    "# given in the lab manual\n",
    "abs_infinity = \n",
    "abs_0 = \n",
    "\n",
    "# Since we know the reaction is first order, we can find the \"y-values\" for the \n",
    "# first order plot using the formula:\n",
    "n_1 = np.log((abs_infinity - abs_508)/(abs_infinity - abs_0))\n"
   ]
  },
  {
   "cell_type": "markdown",
   "metadata": {},
   "source": [
    "## Part C: Find the rate constant\n",
    "\n",
    "Now that we have the appropriate y-values, fit the data to the equation for a first order kinetic reaction using the formula:\n",
    "\n",
    "$$\\ln \\left( \\frac{A_\\infty - A_t}{A_\\infty - A_0} \\right) = -kt$$\n",
    "\n",
    "So, in order to find **k**, we need to perform a linear fit. "
   ]
  },
  {
   "cell_type": "markdown",
   "metadata": {},
   "source": [
    "### Fitting the data using a simple linear model\n",
    "To fit, we'll be using the python library `scipy.stats`, and its corresponding linear regression class known as `linregress`. This is basically the python equivalent of **linest** in Excel. It will automatically fit our data to a linear model:\n",
    "$$y = mx + c$$\n",
    "\n",
    "To actually fit this, all we need to do is to call the function `linregress` which takes in two arguments:\n",
    "- `x` = the independent variable\n",
    "- `y` = the dependent variable\n",
    "\n",
    "We will store the results of the fit as a variable `regression_results`"
   ]
  },
  {
   "cell_type": "code",
   "execution_count": null,
   "metadata": {},
   "outputs": [],
   "source": [
    "# Let's import the linregress function from scipy\n",
    "from scipy.stats import linregress\n",
    "\n",
    "# Now to perform the linear regression\n",
    "# This is stored in a variable called regression_results\n",
    "regression_results = linregress(x=time, y=n_1)"
   ]
  },
  {
   "cell_type": "markdown",
   "metadata": {},
   "source": [
    "### Fit results\n",
    "For ease, we'll store the fitted slope, intercept, the errors, and the $r^2$ as variables, and then print the results. We will also do the same for the respective errors."
   ]
  },
  {
   "cell_type": "code",
   "execution_count": null,
   "metadata": {},
   "outputs": [],
   "source": [
    "# Here is the slope and y-intercept\n",
    "# n1 refers to the first order reaction\n",
    "slope_n1 = regression_results.slope\n",
    "intercept_n1 = regression_results.intercept\n",
    "\n",
    "# And the errors\n",
    "slope_n1_err = regression_results.stderr\n",
    "intercept_n1_err = regression_results.intercept_stderr\n",
    "\n",
    "# And the r-squared value\n",
    "r_squared_n1 = regression_results.rvalue**2\n",
    "\n",
    "# We'll first print the results\n",
    "# Printing the results\n",
    "print(f'Slope = {slope_n1} ± {slope_n1_err}')\n",
    "print(f'Intercept = {intercept_n1} ± {intercept_n1_err}')\n",
    "print(f'r^2 = {r_squared_n1}')"
   ]
  },
  {
   "cell_type": "markdown",
   "metadata": {},
   "source": [
    "### Find the fitted y-values for plotting\n",
    "\n",
    "Using the fitted slope and intercept, we can visualize the \"goodness of fit\" by plotting both the fitted data and the experimental data on the same plot. \n",
    "\n",
    "To do this, we need to calculate the \"fitted y-values\" by using the calculated slope and intercept. Additionally, we want to extrapolate the fit, so it spans a longer range than the measurements we took: this will help us better visualize how the two variables relate to each other and how our good fit is."
   ]
  },
  {
   "cell_type": "code",
   "execution_count": null,
   "metadata": {},
   "outputs": [],
   "source": [
    "import matplotlib.pyplot as plt\n",
    "\n",
    "# We'll first create some equally spaced time values so the fit is extended\n",
    "time_fit = np.linspace(0, 2500, 1000)\n",
    "\n",
    "# Now we'll calculate the y-values for the fit using the equation of a line\n",
    "n1_fit = slope_n1 * time_fit + intercept_n1"
   ]
  },
  {
   "cell_type": "markdown",
   "metadata": {},
   "source": [
    "### Plotting using `matplotlib`\n",
    "\n",
    "To create plots on python, we will be using a library called `matplotlib`, this is a very extensive library that can do a lot of powerful tasks. But we will only use some of is features for this course."
   ]
  },
  {
   "cell_type": "markdown",
   "metadata": {},
   "source": [
    "#### Creating a plot canvas\n",
    "The first thing we want to do when plotting is to make sure our plot is well formatted. To do this, we will create a *canvas*. Think of this like hitting the **scatter plot** button in Excel to create an empty plot. We'll then label our axes.  \n",
    "When you run this cell, you should see an empty plot with nicely formatted axes."
   ]
  },
  {
   "cell_type": "code",
   "execution_count": null,
   "metadata": {},
   "outputs": [],
   "source": [
    "# Create a canvas for the figure thats 8pt wide and 6pt tall\n",
    "plt.figure(figsize=(8, 6))\n",
    "\n",
    "# This changes the fontsize of the ticks on the axis\n",
    "plt.tick_params(labelsize=14)\n",
    "\n",
    "# This labels the axis and also changes their fontsize\n",
    "plt.xlabel(\"Time (s)\", fontsize=16)\n",
    "plt.ylabel(\"$ln(A_∞ - A_t)/(A_∞ - A_0)$\", fontsize=16)\n",
    "\n",
    "# This shows the plot\n",
    "plt.show()"
   ]
  },
  {
   "cell_type": "markdown",
   "metadata": {},
   "source": [
    "#### Adding data to the plot\n",
    "This is done by calling `plt.plot` and having the x and y data in parentheses. Therefore, the general format for adding data to a plot looks like this:  \n",
    "`plt.plot(x, y)`\n",
    "\n",
    "For example, this is what the (unformatted) plot for just the absorbance at 450 and time would look like:"
   ]
  },
  {
   "cell_type": "code",
   "execution_count": null,
   "metadata": {},
   "outputs": [],
   "source": [
    "# An example plot of the time against the absorbance at 450 nm\n",
    "# The \"o\" argument tells matplotlib to plot the data points as circles\n",
    "plt.plot(time, abs_450, \"o\")\n",
    "\n",
    "# Again, to show the plot\n",
    "plt.show()"
   ]
  },
  {
   "cell_type": "markdown",
   "metadata": {},
   "source": [
    "#### Combine everything and plot your data!\n",
    "\n",
    "We'll combine both of the previous steps to plot the data we have. The experimental data is plotted as circles and the fitted data will be a line. You will notice that there are additional arguments for the functions described above, these arguments are described in the comments.\n",
    "\n",
    "## Task #4:\n",
    "For both the *Experimental Data* and the *Fitted Data*, replace the `x` and `y` with the appropriate variable names. "
   ]
  },
  {
   "cell_type": "code",
   "execution_count": null,
   "metadata": {},
   "outputs": [],
   "source": [
    "# Now to plot\n",
    "# Creating the canvas, same as before \n",
    "plt.figure(figsize=(8, 6))\n",
    "\n",
    "# Changing the size of labels\n",
    "plt.tick_params(labelsize=14)\n",
    "\n",
    "# Add the axes labels and their sizes\n",
    "plt.xlabel(\"Time (s)\", fontsize=16)\n",
    "plt.ylabel(\"$ln(A_∞ - A_t)/(A_∞ - A_0)$\", fontsize=16)\n",
    "\n",
    "# Plotting our specific data\n",
    "\n",
    "# Plotting the experimental data as a scatter plot\n",
    "# The \"o\" argument tells matplotlib to plot the data points as circles\n",
    "# The markersize argument changes the size of the circles\n",
    "# The label argument is used to create a legend\n",
    "# The color argument changes the color of the data points\n",
    "\n",
    "# Replace the \"x\" and \"y\" with the correct variables: remember, variable names are not in quotes\n",
    "plt.plot(x, y, \"o\", markersize=8, label=\"Experimental Data\", color=\"red\")\n",
    "\n",
    "# Now we do the same for the fitted data but as a line\n",
    "# The \"-\" argument tells matplotlib to plot the data points as a line\n",
    "# everything else is the same, we do not need a markersize for a line\n",
    "plt.plot(x, y, \"-\", label=\"Fitted Data\", color=\"black\")\n",
    "\n",
    "# Additionally, we will add some text to the plot \n",
    "# to display the slope, intercept and r-squared value with their errors\n",
    "# *this is not required syntax for you to know, but it is very useful*\n",
    "plt.text(0.05, 0.05, \n",
    "         f\"m = {round(slope_n1, 5)} ± {round(slope_n1_err, 5)}\" + \n",
    "         f\"\\nc = {round(intercept_n1, 3)} ± {round(intercept_n1_err, 3)}\" +\n",
    "         f\"\\n$r^2$ = {r_squared_n1:0.4g}\",\n",
    "         ha=\"left\", va=\"bottom\", transform=plt.gca().transAxes, fontsize=16)\n",
    "\n",
    "# Now we add the legend\n",
    "plt.legend(fontsize=16)\n",
    "\n",
    "# This makes sure that the plot is formatted correctly\n",
    "plt.tight_layout()\n",
    "\n",
    "plt.show()"
   ]
  },
  {
   "cell_type": "markdown",
   "metadata": {},
   "source": [
    "## Part D (Optional): Arrhenius Plot\n",
    "\n",
    "The Arrhenius equation is:\n",
    "\n",
    "$$k = A\\mathrm{e}^{-E_a/RT}$$\n",
    "\n",
    "If we take $\\ln$ of both sides we get a linear equation:\n",
    "\n",
    "$$\\ln k = \\frac{E_a}{R}\\frac{1}{T} + \\ln A$$\n",
    "\n",
    "So we can plot the temperature against the rate constants to get the activation energy.\n",
    "\n",
    "The steps to do this is the same as before:\n",
    "1. Create an Excel sheet with two columns: \"Temperature (K)\" and \"Rate Constant\" and save your data for the temperature and rate constants in their respective columns\n",
    "2. Load the Excel sheet into python as a dataframe\n",
    "3. Extract the columns as numpy arrays\n",
    "4. Do some calculations to get the variables needed for the equation above\n",
    "5. Perform a linear fit using the correct variables\n"
   ]
  },
  {
   "cell_type": "code",
   "execution_count": null,
   "metadata": {},
   "outputs": [],
   "source": [
    "import numpy as np\n",
    "import pandas as pd\n",
    "from scipy.stats import linregress\n",
    "\n",
    "# load the data\n",
    "data = pd.read_excel(\"YOUR FILE NAME.xlsx\", engine=\"openpyxl\")\n",
    "\n",
    "# extract columns and make everything into arrays\n",
    "temperature = np.asarray(data[\"Temperature (K)\"])\n",
    "k = np.asarray(data[\"Rate Constant\"])\n",
    "\n",
    "# this takes the inverse of the temperature\n",
    "temp_inv = 1/temperature\n",
    "\n",
    "# this is the ln of the rate constant\n",
    "ln_k = np.log(k)\n",
    "\n",
    "# now we can plot and do a linear regression\n",
    "result = linregress(x=temp_inv, y=ln_k)\n",
    "\n",
    "# slope and y-intercept with errors\n",
    "slope, slope_err = result.slope, result.stderr\n",
    "intercept, intercept_err = result.intercept, result.intercept_stderr\n",
    "\n",
    "print(f\"Slope = {slope} ± {slope_err}\")\n",
    "print(f\"Intercept = {intercept} ± {intercept_err}\")"
   ]
  },
  {
   "cell_type": "markdown",
   "metadata": {},
   "source": [
    "Now we will plot the results!\n",
    "\n",
    "## Task #5:\n",
    "Most of this code is pre-written, however, similarly to above, you will need to replace the `x` and `y` when plotting the *Experimental Data* **only** with the correct variables."
   ]
  },
  {
   "cell_type": "code",
   "execution_count": null,
   "metadata": {},
   "outputs": [],
   "source": [
    "import matplotlib.pyplot as plt\n",
    "\n",
    "# same as before we\"ll create a canvas\n",
    "plt.figure(figsize=(8, 6))\n",
    "\n",
    "# changing the size of labels\n",
    "plt.tick_params(labelsize=14)\n",
    "\n",
    "# axis labels\n",
    "plt.xlabel(\"1/T (K$^{-1}$)\", fontsize=16)\n",
    "plt.ylabel(\"ln(k)\", fontsize=16)\n",
    "\n",
    "# plot the data\n",
    "\n",
    "# This is the Experimental Data\n",
    "# Replace the \"x\" and \"y\" with the appropriate variables\n",
    "plt.plot(x, y, \"o\", markersize=8, label=\"Experimental Data\", color=\"red\")\n",
    "\n",
    "# This is the Fitted Data\n",
    "plt.plot(temp_inv, slope * temp_inv + intercept, \"-\", label=\"Fitted Data\", color=\"black\")\n",
    "\n",
    "plt.legend(fontsize=16)\n",
    "\n",
    "plt.tight_layout()\n",
    "plt.show()"
   ]
  },
  {
   "cell_type": "markdown",
   "metadata": {},
   "source": [
    "## Part E (Optional): Plotting the Absorbance Data"
   ]
  },
  {
   "cell_type": "markdown",
   "metadata": {},
   "source": [
    "We took a lot of very nice UV-VIS scans of the reaction at different time points. It's helpful to plot all the scans together, so we can visualize how the reaction proceeded.\n",
    "\n",
    "However, since we took 14 spectra, having a legend on the graph would not be visually appealing, and it'll be confusing to identify all plots! We can solve this by labelling our different datasets using a very nice colormap, this will help us track the reaction both visually and quantitatively.\n",
    "\n",
    "## Task #6:\n",
    "\n",
    "The coding for this is complicated! So all you will need to do is:\n",
    "- add the filename for the data that **you saved directly from the spectrometer** \n",
    "- create a *list* of the time-points at which you took your data."
   ]
  },
  {
   "cell_type": "code",
   "execution_count": null,
   "metadata": {},
   "outputs": [],
   "source": [
    "# In case you need to plot the UV-VIS Data: this is optional\n",
    "\n",
    "# Importing all the necessary modules\n",
    "import pandas as pd\n",
    "import seaborn as sns\n",
    "import matplotlib.pyplot as plt\n",
    "import matplotlib.colors as mcolors\n",
    "from cycler import cycler\n",
    "\n",
    "# ADD YOUR TIME POINTS HERE AS A LIST\n",
    "# So separate your time values with commas\n",
    "# For examples if you have 5 time points at 0, 10, 20, 30, 40 seconds:\n",
    "# time = [0, 10, 20, 30, 40]\n",
    "time = []\n",
    "\n",
    "# Let\"s set a color palette\n",
    "# for fun you can change this to: \"viridis\", \"plasma\", \"inferno\", \"magma\", \"cividis\"\n",
    "# make sure to keep the quotes and add a \"_r\" at the end to reverse the color palette\n",
    "color = \"magma_r\"\n",
    "\n",
    "# Importing the data as a pandas dataframe: add your filename\n",
    "# make sure to keep the .csv at the end\n",
    "data = pd.read_csv(\"ADD YOUR FILENAME HERE.csv\", encoding=\"UTF-16 LE\", sep=\"\\t\")\n",
    "\n",
    "# You do not need to change anything below this line\n",
    "# -----------------------------------------------\n",
    "\n",
    "# Creating the plot canvas\n",
    "plt.figure(figsize=(8, 6))\n",
    "\n",
    "# Now we can cycle the colors from the color palette\n",
    "plt.gca().set_prop_cycle(cycler(color=sns.color_palette(color, len(time))))\n",
    "\n",
    "# Setting the font size for the plot\n",
    "plt.tick_params(labelsize=14)\n",
    "\n",
    "# Plot each sample with the timestamp as the label\n",
    "for index, column in enumerate(data.columns):\n",
    "    if index > 0:\n",
    "        plt.plot(data[\"Wavelength(nm)\"], data[column], label=f\"{time[index-1]}s\")\n",
    "\n",
    "# Add a colorbar to indicate the time points\n",
    "norm = mcolors.Normalize(vmin=time[0], vmax=time[-1])\n",
    "cmap = sns.color_palette(color, as_cmap=True)\n",
    "sm = plt.cm.ScalarMappable(cmap=cmap, norm=norm)\n",
    "\n",
    "# Settings for the colorbar\n",
    "cbar = plt.colorbar(sm)\n",
    "cbar.set_label(\"Time (s)\", fontsize=16)\n",
    "cbar.ax.tick_params(labelsize=14)\n",
    "cbar.ax.locator_params(nbins=6)\n",
    "\n",
    "# Label the axes\n",
    "plt.xlabel(\"Wavelength (nm)\", fontsize=16)\n",
    "plt.ylabel(\"Absorbance (a.u.)\", fontsize=16)\n",
    "\n",
    "plt.show()\n",
    "    "
   ]
  }
 ],
 "metadata": {
  "kernelspec": {
   "display_name": "Python 3",
   "language": "python",
   "name": "python3"
  },
  "language_info": {
   "codemirror_mode": {
    "name": "ipython",
    "version": 3
   },
   "file_extension": ".py",
   "mimetype": "text/x-python",
   "name": "python",
   "nbconvert_exporter": "python",
   "pygments_lexer": "ipython3",
   "version": "3.12.1"
  }
 },
 "nbformat": 4,
 "nbformat_minor": 2
}
