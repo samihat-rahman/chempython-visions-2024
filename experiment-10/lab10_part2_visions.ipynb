{
 "cells": [
  {
   "cell_type": "markdown",
   "metadata": {},
   "source": [
    "# Lab 10: Enzyme Kinetics (Part 2)\n",
    "\n",
    "This is the *second* portion of the code to analyze the data for lab 10. This portion contains:\n",
    "- D: Fitting the Michaelis-Menten curve to the data\n",
    "- E: Fitting the Lineweaver-Burk equation to the data\n",
    "\n",
    "**Please run all cells sequentially.**\n",
    "\n",
    "I have indicated all points where you need to interact/change the code with the heading below:\n",
    "\n",
    "## Task #0\n",
    "\n",
    "There are **eight** tasks in total for *this notebook*. **Note:** Task #4 has two parts.\n",
    "\n",
    "As always, make sure to read the instructions carefully.\n",
    "\n",
    "Start by running the code below to get all the files necessary."
   ]
  },
  {
   "cell_type": "code",
   "execution_count": null,
   "metadata": {},
   "outputs": [],
   "source": [
    "# Clone the GitHub repository\n",
    "!git clone https://github.com/samihat-rahman/chempython-visions-2024.git"
   ]
  },
  {
   "cell_type": "markdown",
   "metadata": {},
   "source": [
    "## Part D: Michaelis-Menten Fit\n",
    "\n",
    "## Task #1\n",
    "### Upload the data for the kinetic trials\n",
    "Make sure all your kinetic data is stored in the Excel file named **\"enzyme_kinetics_data.xlsx\"**, regardless of whether you used python or excel to extrapolate your rates of reaction.\n",
    "\n",
    "**DO NOT CHANGE ANY OF THE COLUMN HEADINGS. THIS WILL RESULT IN AN ERROR IN THE CODE** \n",
    "\n",
    "The code block below does not need to be changed, but make sure to run it."
   ]
  },
  {
   "cell_type": "code",
   "execution_count": null,
   "metadata": {},
   "outputs": [],
   "source": [
    "# Import the libraries so we can run this independently\n",
    "import numpy as np\n",
    "import pandas as pd\n",
    "import matplotlib.pyplot as plt\n",
    "\n",
    "# We'll load the data from the file\n",
    "kinetics_data = pd.read_excel(\"enzyme_kinetics_data.xlsx\", engine=\"openpyxl\")\n",
    "\n",
    "# Convert to arrays\n",
    "concentration = kinetics_data[\"Concentration\"].to_numpy()\n",
    "initial_rate = kinetics_data[\"Rate\"].to_numpy()\n",
    "\n",
    "# Test to see if the data is loaded correctly\n",
    "print(f\"Concentration: {concentration}\")\n",
    "print(f\"Initial Rate: {initial_rate}\")"
   ]
  },
  {
   "cell_type": "markdown",
   "metadata": {},
   "source": [
    "The Michaelis-Menten equation is:\n",
    "$$v = \\frac{V_{max}[S]}{K_m + [S]}$$\n",
    "where  \n",
    "- $v$ is the rate of reaction\n",
    "- $V_{max}$ is the maximum rate of reaction\n",
    "- $[S]$ is the substrate concentration\n",
    "- $K_m$ is the Michaelis constant\n",
    "\n",
    "\n",
    "#### Using lmfit\n",
    "\n",
    "We used lmfit in the previous lab but since it is advanced, we will walk through most of the steps again."
   ]
  },
  {
   "cell_type": "markdown",
   "metadata": {},
   "source": [
    "## Task #2\n",
    "\n",
    "We will need to first write a function that contains the equation we will be fitting to our data, in this case it's the Michaelis-Menten equation, which I will label `michaelis_menten`. I've added the input variables and the output variable of the function, I will have you add the equation using the syntax you have learned so far.\n",
    "\n",
    "\n",
    "Here are the definitions of all the variables I used:\n",
    "- `s` = substrate concentration\n",
    "- `v_max` = maximum rate of reaction\n",
    "- `k_m` = Michaelis constant\n",
    "- `v` = rate of reaction"
   ]
  },
  {
   "cell_type": "code",
   "execution_count": null,
   "metadata": {},
   "outputs": [],
   "source": [
    "from lmfit import Model\n",
    "\n",
    "# This is this Michaelis-Menten Equation to explain our kinetics\n",
    "def michaelis_menten(s, v_max, k_m):\n",
    "  # Write the equation below using the variables above and below\n",
    "  \n",
    "  return v"
   ]
  },
  {
   "cell_type": "markdown",
   "metadata": {},
   "source": [
    "#### Creating a fit model\n",
    "\n",
    "As a recap from lab 9:\n",
    "\n",
    "We will create a variable for the Model of the fit, where we basically tell lmfit what function we want to fit and what our independent variable is. We then have to create the parameters of the fit, i.e. what values we are trying to obtain by fitting this function ($V_{max}$ and $K_m$). Then, we have to add some guesses as to what we think the values *might* be, these guesses do not have to be close, just a starting point for the model."
   ]
  },
  {
   "cell_type": "markdown",
   "metadata": {},
   "source": [
    "## Task #3\n",
    "Replace the question mark with the appropriate independent variable."
   ]
  },
  {
   "cell_type": "code",
   "execution_count": null,
   "metadata": {},
   "outputs": [],
   "source": [
    "# Fitting\n",
    "# This is the model, i.e. function we will fit\n",
    "# Notice that there is an independent variable defined here, this is the same as the experimental independent variable\n",
    "# add the variable name for the independent variable in place of the ? make sure to keep the quotes\n",
    "m_m_fit = Model(michaelis_menten, independent_vars='?')\n",
    "# These are the two unknown parameters we want to fit, and their \"guesses\" which are after the \"=\" signs\n",
    "pars = m_m_fit.make_params(k_m=20, v_max=20)"
   ]
  },
  {
   "cell_type": "markdown",
   "metadata": {},
   "source": [
    "#### Fit the data!\n",
    "Same as before but as a reminder this is what each argument means:\n",
    "- `data` = the experimental \"y\" variables, i.e. the rate of reaction\n",
    "- `params` = the guesses for the parameters (our `pars` variable)\n",
    "- `method` = what fitting method we're using, in this course will only use `'leastsq'`\n",
    "- `s` = the independent variable (**Note:** this will change depending on what we define as our independent variable)\n",
    "- `scale_covar` = this makes sure the errors obtained are scaled correctly\n",
    "\n",
    "The total fit is stored in a variable labeled `result`.\n",
    "After fitting, we'll extrapolate the fitted slope, its error, and the $r^2$ value."
   ]
  },
  {
   "cell_type": "code",
   "execution_count": null,
   "metadata": {},
   "outputs": [],
   "source": [
    "# Finally, we start fitting, where this function will try our different values until it gets the closest fit\n",
    "result = m_m_fit.fit(data=initial_rate, params=pars, method='leastsq', s=concentration, scale_covar=True, nan_policy='propagate')\n",
    "\n",
    "# We then extrapolate the fitted parameters\n",
    "vmax_fit = result.params['v_max'].value\n",
    "km_fit = result.params['k_m'].value\n",
    "\n",
    "# And the errors from the fit as well from something known as the covariance matrix\n",
    "vmax_err, km_err = np.sqrt(np.diag(result.covar))\n",
    "\n",
    "# We can also see how good the fit was\n",
    "r_squared = 1 - result.residual.var() / np.var(initial_rate)\n",
    "\n",
    "# Finally, print the results\n",
    "print(f'vmax = {vmax_fit} ± {vmax_err}')\n",
    "print(f'km = {km_fit} ± {km_err}')\n",
    "print(f'r^2 = {r_squared}')"
   ]
  },
  {
   "cell_type": "markdown",
   "metadata": {},
   "source": [
    "#### Making the plot\n",
    "This part should be familiar by now--this is the exact same plotting procedure as when we did linear regressions. Except, now that we have the Michaelis-Menten function, we can calculate the `fitted_v` by calling the function and using our fitted parameters."
   ]
  },
  {
   "cell_type": "markdown",
   "metadata": {},
   "source": [
    "## Task #4\n",
    "\n",
    "### Task #4.1\n",
    "Below the section headed `'''CHANGE AXIS LABELS'''`, there are two commands labeling the x-axis (`plt.xlabel`) and y-axis (`plt.ylabel`). The actual labels are in-between quotation marks, and inside the quotes I've added a question mark in place of where the **units** for the axes should be. Replace this question mark only with the appropriate units.\n",
    "\n",
    "### Task #4.2\n",
    "\n",
    "Add the data to the plot. Below the section headed `'''PLOTTING THE DATA'''`, replace the `x` and `y` with the appropriate variables to plot *both* your experimental data and the fitted data."
   ]
  },
  {
   "cell_type": "code",
   "execution_count": null,
   "metadata": {},
   "outputs": [],
   "source": [
    "# to make a smooth plot, we'll create some equally distributed concentration points\n",
    "fit_concentration = np.linspace(start=0, stop=1.3, num=200)\n",
    "# now we can calulate the fitted rates using the parameters from the fit\n",
    "fitted_v = michaelis_menten(fit_concentration, vmax_fit, km_fit)\n",
    "\n",
    "# Plotting\n",
    "# Create a canvas for the figure thats 8pt wide and 6pt tall\n",
    "plt.figure(figsize=(8, 6))\n",
    "\n",
    "# This changes the fontsize of the ticks on the axis\n",
    "plt.tick_params(labelsize=14)\n",
    "\n",
    "'''CHANGE AXIS LABELS'''\n",
    "# This labels the axis and also changes their fontsize\n",
    "# Replace the ? with the appropriate units for the x and y axis\n",
    "plt.xlabel('Concentration (?)', fontsize=16)\n",
    "plt.ylabel('Rate (?)', fontsize=16)\n",
    "\n",
    "# This changes the limits of the x and y axis\n",
    "plt.xlim(0, 1.2)\n",
    "plt.ylim(0, 0.00065)\n",
    "\n",
    "'''PLOTTING THE DATA'''\n",
    "# Plotting the experimental data as a scatter plot hence the \"o\"\n",
    "# Replace the x and y with the appropriate variables\n",
    "plt.plot(x, y, 'o', markersize=8, color='red', label='Experimental Data')\n",
    "# The fitted data is plotted as a smooth line\n",
    "# Replace the x and y with the appropriate variables\n",
    "plt.plot(x, y, color='black', label='Michaelis-Menten Fit')\n",
    "\n",
    "# add text to the plot in the top left corner\n",
    "plt.text(0.05, 0.95, \n",
    "         f'V$_\\\\mathrm{{max}}$ = {vmax_fit:0.3g} ± {vmax_err:0.1g}' + \n",
    "         f'\\nK$_\\\\mathrm{{m}}$= {km_fit:0.3g} ± {km_err:0.1g}' + \n",
    "         f'\\n$r^2$ = {r_squared:0.3g}',\n",
    "         ha='left', va='top', transform=plt.gca().transAxes, fontsize=16)\n",
    "\n",
    "# a legend to help identify our plots\n",
    "plt.legend(fontsize=16)\n",
    "\n",
    "# this makes sure that the plot is formatted correctly\n",
    "plt.tight_layout()"
   ]
  },
  {
   "cell_type": "markdown",
   "metadata": {},
   "source": [
    "## Part E: Lineweaver-Burk Fit\n",
    "When we take the reciprocal of the Michaelis-Menten equation we get the Lineweaver-Burk equation:\n",
    "$$\\frac{1}{v} = \\frac{K_m}{V_{max}[S]} + \\frac{1}{V_{max}}$$\n",
    "\n",
    "This shows a linear relationship between $\\frac{1}{v}$ and $\\frac{1}{[S]}$, so we can extrpolate $V_{max}$ and $K_m$ by doing some algebra.\n",
    "We'll use `linregress` again to do the fit, so I will skip the steps as it is the same as before."
   ]
  },
  {
   "cell_type": "markdown",
   "metadata": {},
   "source": [
    "## Task #5\n",
    "I've added two *incomplete variables* for the reciprocal of the concentration and the initial rate. Complete the variables with the correct notation needed to find $\\frac{1}{[S]}$ and $\\frac{1}{v}$."
   ]
  },
  {
   "cell_type": "code",
   "execution_count": null,
   "metadata": {},
   "outputs": [],
   "source": [
    "# Finding the reciprocals\n",
    "# Compute the reciprocal of the concentration and the initial rate\n",
    "# The variables for the concentration and initial rate are the same as before\n",
    "concentration_reciprocal = \n",
    "initial_rate_reciprocal = "
   ]
  },
  {
   "cell_type": "markdown",
   "metadata": {},
   "source": [
    "## Task #6\n",
    "Add the x and y variables that we want to fit for this regression (after the equals signs)"
   ]
  },
  {
   "cell_type": "code",
   "execution_count": null,
   "metadata": {},
   "outputs": [],
   "source": [
    "# Same as before, we'll use linregress to get the slope and intercept\n",
    "from scipy.stats import linregress\n",
    "\n",
    "regression_results = linregress(x=, y=)\n",
    "\n",
    "# Here's the fitted slope and intercept\n",
    "slope = regression_results.slope\n",
    "intercept = regression_results.intercept\n",
    "\n",
    "# And the errors from the fit as well\n",
    "slope_err = regression_results.stderr\n",
    "intercept_err = regression_results.intercept_stderr\n",
    "\n",
    "# Find the r^2\n",
    "r_squared = regression_results.rvalue**2\n",
    "\n",
    "# Printing the results\n",
    "print(f'Slope = {slope} ± {slope_err}')\n",
    "print(f'Intercept = {intercept} ± {intercept_err}')\n",
    "print(f'r^2 = {r_squared}')"
   ]
  },
  {
   "cell_type": "markdown",
   "metadata": {},
   "source": [
    "Comparing the Lineweaver-Burk equation to the linear equation, we can extrapolate $V_{max}$ and $K_m$."
   ]
  },
  {
   "cell_type": "markdown",
   "metadata": {},
   "source": [
    "## Task #7\n",
    "I've calculated the fitted $V_{max}$ for you already. In similar fashion, complete the variable for `k_m_fit=` with the appropriate operation needed to extrapolate $K_m$ from your fitted parameters above."
   ]
  },
  {
   "cell_type": "code",
   "execution_count": null,
   "metadata": {},
   "outputs": [],
   "source": [
    "# Now to find Vmax and Km from the fit parameters and their errors\n",
    "v_max_fit = 1/intercept\n",
    "v_max_err = 1/intercept_err\n",
    "\n",
    "# Complete the equation to find Km from the fitted parameters and Vmax\n",
    "k_m_fit = \n",
    "\n",
    "# This is using error propagation: you don't need to know this\n",
    "k_m_err = ((slope_err/slope) + (v_max_err/v_max_fit)) * k_m_fit\n",
    "\n",
    "print(f'vmax = {vmax_fit} ± {vmax_err}')\n",
    "print(f'km = {km_fit} ± {km_err}')\n",
    "print(f'r^2 = {r_squared}')"
   ]
  },
  {
   "cell_type": "markdown",
   "metadata": {},
   "source": [
    "The plotting procedure is also the same as before."
   ]
  },
  {
   "cell_type": "markdown",
   "metadata": {},
   "source": [
    "## Task #8\n",
    "Add the data to the plot. Below the section headed `'''PLOTTING THE DATA'''`, replace the `x` and `y` with the appropriate variables to plot *both* your experimental data and the fitted data."
   ]
  },
  {
   "cell_type": "code",
   "execution_count": null,
   "metadata": {},
   "outputs": [],
   "source": [
    "# To make a smooth plot, we'll create some equally distributed concentration points\n",
    "# We're skipping the first point since it's 0\n",
    "fit_concentration_reciprocal = 1/fit_concentration[1:]\n",
    "# now we can calulate the fitted rates using the parameters from the fit\n",
    "fitted_v_reciprocal = fit_concentration_reciprocal * slope + intercept\n",
    "\n",
    "# Plotting\n",
    "# Create a canvas for the figure thats 8pt wide and 6pt tall\n",
    "plt.figure(figsize=(8, 6))\n",
    "\n",
    "# This changes the fontsize of the ticks on the axis\n",
    "plt.tick_params(labelsize=14)\n",
    "\n",
    "# This labels the axis and also changes their fontsize\n",
    "plt.xlabel('$1/[S]$', fontsize=16)\n",
    "plt.ylabel('$1/v$', fontsize=16)\n",
    "\n",
    "# This changes the limits of the x and y axis\n",
    "plt.xlim(0, 40)\n",
    "plt.ylim(1000, 30000)\n",
    "\n",
    "'''PLOTTING THE DATA'''\n",
    "# plotting the experimental data as a scatter plot hence the \"o\"\n",
    "# Replace the x and y with the appropriate variables\n",
    "plt.plot(x, y, 'o', markersize=8, color='red', label='Experimental Data')\n",
    "# the fitted data is plotted as a smooth line\n",
    "# Replace the x and y with the appropriate variables\n",
    "plt.plot(x, y, color='black', label='Lineweaver-Burk Fit')\n",
    "\n",
    "# add text to the plot in the top left corner\n",
    "plt.text(0.05, 0.95, \n",
    "         f'V$_\\\\mathrm{{max}}$ = {vmax_fit:0.3g} ± {vmax_err:0.1g}' + \n",
    "         f'\\nK$_\\\\mathrm{{m}}$= {km_fit:0.3g} ± {km_err:0.1g}' + \n",
    "         f'\\n$r^2$ = {r_squared:0.3g}',\n",
    "         ha='left', va='top', transform=plt.gca().transAxes, fontsize=16)\n",
    "\n",
    "# a legend to help identify our plots\n",
    "plt.legend(fontsize=16)\n",
    "\n",
    "# this makes sure that the plot is formatted correctly\n",
    "plt.tight_layout()"
   ]
  }
 ],
 "metadata": {
  "kernelspec": {
   "display_name": "Python 3",
   "language": "python",
   "name": "python3"
  },
  "language_info": {
   "name": "python",
   "version": "3.12.4"
  }
 },
 "nbformat": 4,
 "nbformat_minor": 2
}
