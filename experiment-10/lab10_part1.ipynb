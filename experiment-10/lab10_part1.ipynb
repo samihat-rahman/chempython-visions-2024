{
 "cells": [
  {
   "cell_type": "markdown",
   "metadata": {},
   "source": [
    "# Lab 10: Enzyme Kinetics (Part 1)\n",
    "## Instructions\n",
    "The two notebooks named `lab10_part1.ipynb` and `lab10_part2.ipynb` contain all the code needed to fully analyze the steady-state and kinetic measurements from Experiment 10. Make sure to read the instructions in each block carefully, and also read the comments on the code.\n",
    "\n",
    "Here are all the parts across **both** notebooks:\n",
    "\n",
    "Part 1:\n",
    "- A: Plotting all the UV-VIS scans for p-nitrophenol\n",
    "- B: Finding the molar absorption coefficient of p-nitrophenol\n",
    "- C: Extrapolating the rate of reaction from the kinetic trials\n",
    "\n",
    "Part 2:\n",
    "- D: Fitting the Michaelis-Menten curve to the data\n",
    "- E: Fitting the Lineweaver-Burk equation to the data\n",
    "\n",
    "***The code cells must be run in order unless specified otherwise.*** Since the data analysis needed for this experiment is more rigorous, I've split the code needed into two parts. This first part can also be done on Excel, hence using python to obtain the molar absorption coefficient and the rate laws is ***optional*** and can instead be run on **Excel**. ***However***, we *highly* encourage you to use python as this is *faster* and a more efficient way to get your rates.\n",
    "\n",
    "***Part 2 must be run on python*** as Excel does not have the functions needed to perform the Michealis-Menten fit.\n",
    "\n",
    "I have indicated all points where you need to interact/change the code with the heading below:\n",
    "\n",
    "## Task #0\n",
    "\n",
    "There are **twelve** tasks in total for *this notebook*, this *includes* points where you need to define filenames.\n",
    "\n",
    "**Part C** is where all the kinetic data is fitted, since most of the code will remain the same for each of the seven trials I've indicated the parts that need to be changed with larger comment blocks which look like this:  \n",
    "`'''CHANGE CODE BELOW'''`  \n",
    "\n",
    "`'''CHANGE CODE ABOVE'''`"
   ]
  },
  {
   "cell_type": "markdown",
   "metadata": {},
   "source": [
    "## Part A: Plotting the UV-VIS Scans"
   ]
  },
  {
   "cell_type": "markdown",
   "metadata": {},
   "source": [
    "### Importing the UV-VIS Scan Data\n",
    "All the data from the scan is stored in one csv file, so similarly as we did in previous labs, we will store the data in a pandas dataframe. Make sure to change the file name."
   ]
  },
  {
   "cell_type": "code",
   "execution_count": null,
   "metadata": {},
   "outputs": [],
   "source": [
    "# We need to import two modules\n",
    "import pandas as pd \n",
    "import numpy as np\n",
    "\n",
    "# This is the scan data: wavelength and absorbance: add your file after \"filepath_or_buffer=\"\n",
    "# Do not change anything else\n",
    "scan_data = pd.read_csv(filepath_or_buffer=\"ADD YOUR FILENAME HERE\", sep=\"\\t\", encoding=\"UTF-16 LE\").dropna(axis=1)\n",
    "\n",
    "# We\"ll print the dataframe to see what our data looks like\n",
    "print(scan_data)"
   ]
  },
  {
   "cell_type": "markdown",
   "metadata": {},
   "source": [
    "As a reminder from lab 8, we can look at subsets of the whole dataframe. So, for example, if I want to look at just the wavelength and the absorbance for p- nitrophenol 1, this is the syntax I would use:"
   ]
  },
  {
   "cell_type": "code",
   "execution_count": null,
   "metadata": {},
   "outputs": [],
   "source": [
    "print(scan_data[[\"Wavelength(nm)\", \"p-nitrophenol 1(Abs)\"]])"
   ]
  },
  {
   "cell_type": "markdown",
   "metadata": {},
   "source": [
    "### Plotting the scans\n",
    "This is the same procedure as we have been doing where we use `matplotlib` to plot\n",
    "\n",
    "#### Storing each measurement as a variable\n",
    "Since all the measurements share the same x-axis, we can define a variable that stores the wavelength column, so we don't have to call it every time using the `pandas` notation."
   ]
  },
  {
   "cell_type": "code",
   "execution_count": null,
   "metadata": {},
   "outputs": [],
   "source": [
    "import matplotlib.pyplot as plt\n",
    "# Here we define a wavelength variable\n",
    "# Then, after the equals sign, we call the dataframe variable, which is scan_data\n",
    "# To get just the wavelength column, we first add square brackets [] and inside \n",
    "# the brackets add the *exact* name of that column in quotation marks\n",
    "wavelength = scan_data[\"Wavelength(nm)\"]\n",
    "print(wavelength)"
   ]
  },
  {
   "cell_type": "markdown",
   "metadata": {},
   "source": [
    "## Task #1"
   ]
  },
  {
   "cell_type": "code",
   "execution_count": null,
   "metadata": {},
   "outputs": [],
   "source": [
    "# Print the whole dataframe\n",
    "# So we can see the column names\n",
    "print(scan_data)"
   ]
  },
  {
   "cell_type": "markdown",
   "metadata": {},
   "source": [
    "Now, for each scan that you want to plot, you can define the absorbance variable similarly: by naming the variable (using unique names for each scan) and then identifying it in the dataframe by using the *exact column heading*. I suggest copying and pasting it directly from the print out of the full dataframe above (the code block right underneath the Task #1 label re-prints the whole dataframe so it's easier for you). I've done the first one for you **except** you will need to change the column name inside the quotes to the appropriate column in your data."
   ]
  },
  {
   "cell_type": "code",
   "execution_count": null,
   "metadata": {},
   "outputs": [],
   "source": [
    "# Copy and paste this code for however many scans you want to plot\n",
    "# Only things you need to change for each scan are:\n",
    "# 1. The variable name\n",
    "# 2. The column name (to pick the correct scan to plot) inside the quotations\n",
    "p_nitrophenol_trial_1 = scan_data[\"ENTER THE NAME OF THE FIRST COLUMN/SAMPLE HERE\"]\n",
    "\n",
    "# Add the rest of the samples below this line: \n"
   ]
  },
  {
   "cell_type": "markdown",
   "metadata": {},
   "source": [
    "#### Adding data to the plot\n",
    "## Task #2\n",
    "By now you should be very familiar with how to do this: so try adding just the data for *your first sample* in an *unformatted graph"
   ]
  },
  {
   "cell_type": "code",
   "execution_count": null,
   "metadata": {},
   "outputs": [],
   "source": [
    "# Plotting the first data\n",
    "# replace the x and y with the variables you defined above\n",
    "plt.plot(x, y, label='1')\n",
    "\n",
    "# We'll also Add a legend so we can see the label\n",
    "plt.legend()\n",
    "\n",
    "# show the plot\n",
    "plt.show()"
   ]
  },
  {
   "cell_type": "markdown",
   "metadata": {},
   "source": [
    "Now to combine all the information we've learned to create a nicely formatted plot by adding the data for each trial individually.\n",
    "\n",
    "## Task #3\n",
    "You will add your data to the graph below the large comment:\n",
    " `'''PLOTTING THE DATA'''`\n",
    "Make sure to replace the \"x\" and the \"y\" with appropriate variables and edit text after `label=` with the sample name you would like on the legend of the plot. ***Note:*** labels *have to* be in-between parentheses. I have set up the first plot for you as an example."
   ]
  },
  {
   "cell_type": "code",
   "execution_count": null,
   "metadata": {},
   "outputs": [],
   "source": [
    "# Create a canvas for the figure thats 8pt wide and 6pt tall\n",
    "plt.figure(figsize=(8, 6))\n",
    "\n",
    "# This changes the fontsize of the ticks on the axis\n",
    "plt.tick_params(labelsize=14)\n",
    "\n",
    "# This labels the axis and also changes their fontsize\n",
    "plt.xlabel(\"Wavelength (nm)\", fontsize=16)\n",
    "plt.ylabel(\"Absorbance (a.u.)\", fontsize=16)\n",
    "\n",
    "''' PLOTTING THE DATA '''\n",
    "# copy and paste the line below for all the scans replacing the x and y with the variables you defined above and the label with the sample name\n",
    "plt.plot(x, y, label='Sample 1')\n",
    "\n",
    "# Don't need to edit this but I will explain everything I am doing here\n",
    "# Set limits for the x and y axis\n",
    "plt.xlim(325, 525)\n",
    "plt.ylim(-0.05, 3)\n",
    "\n",
    "# Add the plot legend\n",
    "plt.legend(fontsize=16)\n",
    "\n",
    "# This makes sure that the plot is formatted correctly\n",
    "plt.tight_layout()\n",
    "plt.show()"
   ]
  },
  {
   "cell_type": "markdown",
   "metadata": {},
   "source": [
    "## Part B: Calculating the molar absorption coefficient of p-nitrophenol\n",
    "The molar absorptivity ($\\epsilon$) of a material can be found using the Beer-Lambert Law:\n",
    "$$A=\\epsilon_{400} lc$$\n",
    "where \n",
    "- $A$ is the absorbance\n",
    "- $l$ is the path length in cm\n",
    "- $c$ is the concentration in M  \n",
    "\n",
    "The UV-VIS data you collected in lab measured the absorbance at $\\lambda=400nm$ for different concentrations. To find $\\epsilon$, we can plot absorbance vs. concentration and do linear regression. The outputted slope will be the molar absorptivity.\n",
    "\n",
    "### Finding the absorbance at 400 nm\n",
    "We will basically be doing python's version of hitting **CTRL/CMD + F** to find a particular value. The syntax may look complicated at first, but know that the only thing we need to worry about is the number that's highlighted. The code below just asks python to select the row in each column where the wavelength equals to 399 nm."
   ]
  },
  {
   "cell_type": "code",
   "execution_count": null,
   "metadata": {},
   "outputs": [],
   "source": [
    "# This will print all of the column values where the wavelength is 398\n",
    "print(scan_data.loc[scan_data[\"Wavelength(nm)\"] == 398])"
   ]
  },
  {
   "cell_type": "markdown",
   "metadata": {},
   "source": [
    "## Task #4\n",
    "We need to do the same thing but for *400 nm* so edit the line below to reflect that change."
   ]
  },
  {
   "cell_type": "code",
   "execution_count": null,
   "metadata": {},
   "outputs": [],
   "source": [
    "# This is the absorbance at 400 nm for the samples\n",
    "# This code is incomplete, you need to fill in the question marks\n",
    "abs_400 = scan_data.loc[scan_data[\"?\"] == ?]"
   ]
  },
  {
   "cell_type": "markdown",
   "metadata": {},
   "source": [
    "## Task #5\n",
    "#### Store the Absorbance Data in Excel\n",
    "To make things easier, you can store the absorbance and the concentration of each run in the Excel sheet labelled **\"molar_absorptivity_determination.xlsx\"** which should be stored in the same folder as this notebook. Note that no units have been added to the column headings, it is your responsibility to know what the correct units.\n",
    "\n",
    "**DO NOT CHANGE ANY OF THE COLUMN HEADINGS. THIS WILL RESULT IN AN ERROR IN THE CODE** \n",
    "\n",
    "After adding all the concentrations and absorbance data, save the Excel sheet and re-upload it onto the server.\n",
    "\n",
    "#### Uploading the Absorbance Data\n",
    "As always, we will be uploading the data using `pandas`"
   ]
  },
  {
   "cell_type": "code",
   "execution_count": null,
   "metadata": {},
   "outputs": [],
   "source": [
    "# Upload the calibration data from the excel file and store it as a dataframe\n",
    "calibration_data = pd.read_excel(\"molar_absorptivity_determination.xlsx\", engine=\"openpyxl\")\n",
    "\n",
    "# Storing the concentration and absorbance values in variables\n",
    "concentration = np.asarray(calibration_data[\"Concentration\"])\n",
    "absorbance = np.asarray(calibration_data[\"Absorbance\"])\n",
    "\n",
    "# Test if this works\n",
    "print(concentration, absorbance)"
   ]
  },
  {
   "cell_type": "markdown",
   "metadata": {},
   "source": [
    "### Fitting the data using a simple linear model to obtain the Molar Absorption Coefficient\n",
    "\n",
    "This is the same exact procedure as the previous two labs, so you should be very familiar with it! You'll also notice that most of this code below was copied and pasted directly from lab 8 and just the variables names are changed!\n",
    "\n",
    "## Task #6\n",
    "Add the x and y variables that we want to fit for this regression (after the equals signs)"
   ]
  },
  {
   "cell_type": "code",
   "execution_count": null,
   "metadata": {},
   "outputs": [],
   "source": [
    "from scipy.stats import linregress\n",
    "\n",
    "# performing the linear regression\n",
    "regression_results = linregress(x=, y=)"
   ]
  },
  {
   "cell_type": "markdown",
   "metadata": {},
   "source": [
    "#### Fit results\n",
    "For ease, we'll store the fitted slope, intercept, the errors, and the $r^2$ as variables, and then print the results.  \n",
    "***Make sure to save your value for the slope, this is the molar absorption coefficient: $\\epsilon_{400}$***"
   ]
  },
  {
   "cell_type": "code",
   "execution_count": null,
   "metadata": {},
   "outputs": [],
   "source": [
    "# Here's the fitted slope and intercept\n",
    "slope = regression_results.slope\n",
    "intercept = regression_results.intercept\n",
    "\n",
    "# And the errors from the fit as well\n",
    "slope_err = regression_results.stderr\n",
    "intercept_err = regression_results.intercept_stderr\n",
    "\n",
    "# Find the r^2\n",
    "r_squared = regression_results.rvalue**2\n",
    "\n",
    "# Printing the results\n",
    "print(f\"Slope = {slope} ± {slope_err}\")\n",
    "print(f\"Intercept = {intercept} ± {intercept_err}\")\n",
    "print(f\"r^2 = {r_squared}\")"
   ]
  },
  {
   "cell_type": "markdown",
   "metadata": {},
   "source": [
    "#### Plotting the experimental data and linear fit\n",
    "\n",
    "This is the same as the previous two labs\n",
    "\n",
    "## Task #7\n",
    "Add the data to the plot. Below the section headed `'''PLOTTING THE DATA'''`, replace the `x` and `y` with the appropriate variables to plot *both* your experimental data and the fitted data."
   ]
  },
  {
   "cell_type": "code",
   "execution_count": null,
   "metadata": {},
   "outputs": [],
   "source": [
    "# This is to create 500 equally spaced points from 0 to 0.00015\n",
    "fit_concentration = np.linspace(start=0, stop=0.00015, num=500)\n",
    "# Now we can calulate the fitted absorbances using the parameters from the fit\n",
    "fitted_absorbance = fit_concentration * slope + intercept\n",
    "\n",
    "# Create a canvas for the figure thats 8pt wide and 6pt tall\n",
    "plt.figure(figsize=(8, 6))\n",
    "\n",
    "# This changes the fontsize of the ticks on the axis\n",
    "plt.tick_params(labelsize=14)\n",
    "\n",
    "# This labels the axis and also changes their fontsize\n",
    "plt.xlabel(\"Concentration (M)\", fontsize=16)\n",
    "plt.ylabel(\"Absorbance (a.u.)\", fontsize=16)\n",
    "\n",
    "# This changes the limits of the x and y axis\n",
    "plt.xlim(0, 0.00015)\n",
    "plt.ylim(0, 3.5)\n",
    "\n",
    "'''PLOTTING THE DATA'''\n",
    "# Plot the experimental data as a scatter plot hence the \"o\"\n",
    "# Replace the x and y with the appropriate variables you defined above\n",
    "plt.plot(x, y, \"o\", markersize=8, color=\"red\", label=\"Experimental Data\")\n",
    "# The fitted data is plotted as a smooth line, hence the \"-\"\n",
    "# Replace the x and y with the appropriate variables you defined above\n",
    "plt.plot(x, y, \"-\", color=\"black\", label=\"Linear Fit\")\n",
    "\n",
    "# add text to the plot in the top left corner\n",
    "plt.text(0.05, 0.95, \n",
    "         f\"m = {round(slope, -2)} ± {round(slope_err, -2)}\" + \n",
    "         f\"\\nc = {round(intercept, 3)} ± {round(intercept_err, 3)}\" +\n",
    "         f\"\\n$r^2$ = {r_squared:0.4g}\",\n",
    "         ha=\"left\", va=\"top\", transform=plt.gca().transAxes, fontsize=16)\n",
    "\n",
    "# A legend to help identify our plots\n",
    "plt.legend(fontsize=16)\n",
    "\n",
    "# This makes sure that the plot is formatted correctly\n",
    "plt.tight_layout()"
   ]
  },
  {
   "cell_type": "markdown",
   "metadata": {},
   "source": [
    "## Part C: Extrapolating the Rate of Reaction\n",
    "\n",
    "This block will take the longest to run as we need to calculate and store the rates of reaction from all seven kinetics trials. Therefore, to make things easier, we will re-import all the necessary modules in this part. This will allow you to **restart your progress from this part without having to run the cells above**.\n",
    "\n",
    "### Importing the data\n",
    "\n",
    "## Task #8\n",
    "Change the filepath below to the specific kinetic trial you are analyzing."
   ]
  },
  {
   "cell_type": "code",
   "execution_count": null,
   "metadata": {},
   "outputs": [],
   "source": [
    "# Re-importing the modules we need\n",
    "import numpy as np\n",
    "import pandas as pd\n",
    "import matplotlib.pyplot as plt\n",
    "from scipy.stats import linregress\n",
    "\n",
    "'''CHANGE THE FILEPATH BELOW'''\n",
    "kinetic_data = pd.read_csv(filepath_or_buffer=\"ABRG_expt9_k7.csv\", sep=\"\\t\", encoding=\"UTF-16 LE\")\n",
    "'''CHANGE THE FILEPATH ABOVE'''\n",
    "\n",
    "print(kinetic_data)"
   ]
  },
  {
   "cell_type": "markdown",
   "metadata": {},
   "source": [
    "### Finding the linear regime\n",
    "We'll want to extract the \"Time\" and \"Absorbance\" columns as numpy arrays and store them in separate variables. We'll see why this is important soon."
   ]
  },
  {
   "cell_type": "code",
   "execution_count": null,
   "metadata": {},
   "outputs": [],
   "source": [
    "# From the dataframe, we\"ll collect the time and absorbance column\n",
    "# then using .to_numpy() we\"ll convert it to an array\n",
    "time = kinetic_data[\"Time(sec)\"].to_numpy()\n",
    "absorbance = kinetic_data[\"ABS\"].to_numpy()"
   ]
  },
  {
   "cell_type": "markdown",
   "metadata": {},
   "source": [
    "It will also be helpful to quickly plot the data to see what it looks like. This is a very rough plot only meant for visualization, so we will not format it."
   ]
  },
  {
   "cell_type": "code",
   "execution_count": null,
   "metadata": {},
   "outputs": [],
   "source": [
    "# Rough plot with dots for the points\n",
    "plt.plot(time, absorbance, \".\")\n",
    "plt.xlabel(\"Time (s)\")\n",
    "plt.ylabel(\"Absorbance (a.u.)\")\n",
    "plt.show()"
   ]
  },
  {
   "cell_type": "markdown",
   "metadata": {},
   "source": [
    "We need to extrapolate only the *initial* rate of reaction as that is the regime where we can assume that the concentration remains the same:\n",
    "$$[S]_t = [S]_0$$\n",
    "In other words, we want the slope of only the *linear* portion of our data, which occurs at early times. If we try to fit the whole data, we'll get the wrong rate of reaction as our assumption no longer holds true as the reaction progresses. Therefore, we need a way to truncate our data to shorter times.  \n",
    "This is where having an array is very helpful. We can tell python to create a *subset* of our total time and absorbance arrays that satisfies a specific condition:  \n",
    "\n",
    "`short_array = main_array[condition]`\n",
    "\n",
    "In this case, the condition would be the data that was taken at times before the substrate concentration starts changing, and we get a non-linear dependance. For example, if my reaction was only linear for the first 50s, I would make my shorter arrays for time and absorbance using this formulation:\n",
    "- `time_short = time[time < 50]`\n",
    "- `absorbance_short = absorbance[time < 50]`\n",
    "\n",
    "To make this even easier, I defined a `max_time` variable which defines what the maximum time we want to plot is. This way you only need to change one line for kinetic trial.\n",
    "\n",
    "## Task #9\n",
    "\n",
    "Look at the graph above and find the portion of time where the data looks linear. You want to truncate the data so it is only linear. Change the `max_time` variable to what you think is the limit of the linear regime (i.e. the maximum time the data looks linear) and plot it."
   ]
  },
  {
   "cell_type": "code",
   "execution_count": null,
   "metadata": {},
   "outputs": [],
   "source": [
    "# The maximum amount of time we want to plot\n",
    "# Change this for each trial depending on what your data looks like\n",
    "'''CHANGE THE MAX_TIME BELOW'''\n",
    "max_time = 120\n",
    "'''CHANGE THE MAX_TIME ABOVE'''\n",
    "\n",
    "# We'll create subsets of the arrays, so they are \n",
    "# truncated to the maximum time we set above\n",
    "absorbance_short = absorbance[time < max_time]\n",
    "time_short = time[time < max_time]\n",
    "\n",
    "# Now let's plot this\n",
    "plt.plot(time_short, absorbance_short, \".\")"
   ]
  },
  {
   "cell_type": "markdown",
   "metadata": {},
   "source": [
    "### Absorbance to concentration\n",
    "Now we need to convert the absorbance values into concentrations using Beer's Law and the molar absorption coefficient we calculated in part A.\n",
    "\n",
    "## Task #10\n",
    "\n",
    "We've stored Beer's Law in something known as a *function* which are used in python (for our data science purposes) to define any equation or formula. This is done, so we do not have to type out the formula each time we want to use it, and can instead just call the function, and it will apply the formula to our set of inputs. You can read more about functions in the python tutorial.\n",
    "\n",
    "The `beers_law` function contains \"inputs\":\n",
    "- `A` which is the absorbance\n",
    "- `e` which is the molar absorptivity\n",
    "- `l` which is the path length, but this is set constant at 1\n",
    "\n",
    "It will then \"output\" `c` which is the concentration.\n",
    "\n",
    "I have purposefully left out one part of the Beer-Lambert law formula in the function below, make sure to complete it."
   ]
  },
  {
   "cell_type": "code",
   "execution_count": null,
   "metadata": {},
   "outputs": [],
   "source": [
    "# Beer's law but we keep the path length constant at 1 cm\n",
    "# The formula for Beer's law below is incomplete, make sure complete it\n",
    "def beers_law(A, e, l=1.0):\n",
    "    c = A\n",
    "    return c"
   ]
  },
  {
   "cell_type": "markdown",
   "metadata": {},
   "source": [
    "## Task #11\n",
    "Now we need to add the molar absorptivity we calculated in part A"
   ]
  },
  {
   "cell_type": "code",
   "execution_count": null,
   "metadata": {},
   "outputs": [],
   "source": [
    "# Replace the question mark with the molar absorptivity \n",
    "# which is the slope of the fit we did in part A\n",
    "molar_absorptivity = ?\n",
    "\n",
    "# calculating the concentration using beer's law and converting it to mM\n",
    "concentration = beers_law(absorbance_short, molar_absorptivity) * 1000"
   ]
  },
  {
   "cell_type": "markdown",
   "metadata": {},
   "source": [
    "### Fitting\n",
    "This will be the exact same as before, but now we have different independent and dependent variables. Therefore, we'll use the `linregress` class again to obtain the slope, intercept, and $r^2$ values. I've added all the variables you will need."
   ]
  },
  {
   "cell_type": "code",
   "execution_count": null,
   "metadata": {},
   "outputs": [],
   "source": [
    "# Fitting the kinetic data\n",
    "regression_results = linregress(x=time_short, y=concentration)\n",
    "\n",
    "# Here's the fitted slope and intercept\n",
    "slope = regression_results.slope\n",
    "intercept = regression_results.intercept\n",
    "\n",
    "# And the errors from the fit as well\n",
    "slope_err = regression_results.stderr\n",
    "intercept_err = regression_results.intercept_stderr\n",
    "\n",
    "# Find the r^2\n",
    "r_squared = regression_results.rvalue**2\n",
    "\n",
    "# Printing the results\n",
    "print(f\"Slope = {slope} ± {slope_err}\")\n",
    "print(f\"Intercept = {intercept} ± {intercept_err}\")\n",
    "print(f\"r^2 = {r_squared}\")"
   ]
  },
  {
   "cell_type": "markdown",
   "metadata": {},
   "source": [
    "We'll also want to see how this fit looks, so we'll plot the fit and experimental data the same as before, repeating the steps from Part B."
   ]
  },
  {
   "cell_type": "code",
   "execution_count": null,
   "metadata": {},
   "outputs": [],
   "source": [
    "# We won\"t need to create a faux time scale, we can just use the full one from the measurement :)\n",
    "fitted_concentration = time * slope + intercept\n",
    "\n",
    "# Create a canvas for the figure thats 8pt wide and 6pt tall\n",
    "plt.figure(figsize=(8, 6))\n",
    "\n",
    "# This changes the fontsize of the ticks on the axis\n",
    "plt.tick_params(labelsize=14)\n",
    "\n",
    "# This labels the axis and also changes their fontsize\n",
    "plt.xlabel(\"Time (s)\", fontsize=16)\n",
    "plt.ylabel(\"Concentration (mM)\", fontsize=16)\n",
    "\n",
    "# now we plot\n",
    "# plotting the experimental data as a scatter plot hence the \"o\"\n",
    "plt.plot(time_short, concentration, \"o\", markersize=8, color=\"red\", label=\"Experimental Data\")\n",
    "# the fitted data is plotted as a smooth line, hence the \"-\"\n",
    "plt.plot(time, fitted_concentration, \"-\", color=\"black\", label=\"Linear Fit\")\n",
    "\n",
    "# add text to the plot in the top left corner\n",
    "plt.text(0.05, 0.95, \n",
    "         f\"m = {slope:0.5g} ± {slope_err:0.5g}\" + \n",
    "         f\"\\n$r^2$ = {r_squared:0.4g}\",\n",
    "         ha=\"left\", va=\"top\", transform=plt.gca().transAxes, fontsize=16)\n",
    "\n",
    "# A legend to help identify our plots\n",
    "plt.legend(fontsize=16)\n",
    "\n",
    "# This makes sure that the plot is formatted correctly\n",
    "plt.tight_layout()"
   ]
  },
  {
   "cell_type": "markdown",
   "metadata": {},
   "source": [
    "## Task #12\n",
    "### Repeat for all kinetic trials\n",
    "These steps can be repeated for all other kinetic measurements. Most of the code will remain the same, all we need to change is:\n",
    "- The filename in `pd.read_csv`\n",
    "- The `max_time` variable, which will vary for each trial\n",
    "\n",
    "Do this for all the trials to obtain the rate of reaction, you can store your data in the Excel sheet labeled **\"enzyme_kinetics_data.xlsx\"**. Columns have been labelled for you but without any units."
   ]
  }
 ],
 "metadata": {
  "kernelspec": {
   "display_name": "Python 3",
   "language": "python",
   "name": "python3"
  },
  "language_info": {
   "name": "python",
   "version": "3.12.4"
  }
 },
 "nbformat": 4,
 "nbformat_minor": 2
}
